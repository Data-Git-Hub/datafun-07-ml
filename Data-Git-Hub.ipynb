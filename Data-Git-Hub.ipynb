{
 "cells": [
  {
   "cell_type": "markdown",
   "metadata": {},
   "source": [
    "# Project 7\n",
    "\n",
    "### Author: Data-Git-Hub\n",
    "\n",
    "### GitHub Project Repository Link: https://github.com/Data-Git-Hub/datafun-07-ml\n",
    "\n",
    "---"
   ]
  },
  {
   "cell_type": "markdown",
   "metadata": {},
   "source": [
    "### Import Necessary Python Libraries and Tools"
   ]
  },
  {
   "cell_type": "code",
   "execution_count": 4,
   "metadata": {},
   "outputs": [],
   "source": [
    "import numpy as np\n",
    "import pandas as pd\n",
    "import pyarrow as pa\n",
    "import matplotlib.pyplot as plt\n",
    "import seaborn as sns\n",
    "import scipy\n",
    "\n"
   ]
  },
  {
   "cell_type": "markdown",
   "metadata": {},
   "source": [
    "### Check Library Versions"
   ]
  },
  {
   "cell_type": "code",
   "execution_count": 5,
   "metadata": {},
   "outputs": [
    {
     "name": "stdout",
     "output_type": "stream",
     "text": [
      "NumPy Version: 2.2.3\n",
      "Pandas Version: 2.2.3\n",
      "PyArrow Version: 19.0.0\n",
      "Matplotlib Version: 3.10.0\n",
      "Seaborn Version: 0.13.2\n",
      "SciPy Version: 1.15.1\n"
     ]
    }
   ],
   "source": [
    "# Check versions\n",
    "print(\"NumPy Version:\", np.__version__)\n",
    "print(\"Pandas Version:\", pd.__version__)\n",
    "print(\"PyArrow Version:\", pa.__version__)\n",
    "print(\"Matplotlib Version:\", plt.matplotlib.__version__)\n",
    "print(\"Seaborn Version:\", sns.__version__)\n",
    "print(\"SciPy Version:\", scipy.__version__)"
   ]
  },
  {
   "cell_type": "markdown",
   "metadata": {},
   "source": []
  }
 ],
 "metadata": {
  "kernelspec": {
   "display_name": ".venv",
   "language": "python",
   "name": "python3"
  },
  "language_info": {
   "codemirror_mode": {
    "name": "ipython",
    "version": 3
   },
   "file_extension": ".py",
   "mimetype": "text/x-python",
   "name": "python",
   "nbconvert_exporter": "python",
   "pygments_lexer": "ipython3",
   "version": "3.13.1"
  }
 },
 "nbformat": 4,
 "nbformat_minor": 2
}
